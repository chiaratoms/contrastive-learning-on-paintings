{
 "cells": [
  {
   "cell_type": "code",
   "execution_count": null,
   "metadata": {},
   "outputs": [],
   "source": [
    "import random\n",
    "import numpy as np\n",
    "import pandas as pd\n",
    "import seaborn as sns\n",
    "from PIL import Image, ImageOps\n",
    "from tqdm import tqdm\n",
    "from os.path import join\n",
    "import matplotlib.pyplot as plt\n",
    "from sklearn.manifold import TSNE\n",
    "from sklearn.cluster import AgglomerativeClustering\n",
    "from torchvision import transforms\n",
    "device='cuda:0'"
   ]
  },
  {
   "cell_type": "code",
   "execution_count": null,
   "metadata": {},
   "outputs": [],
   "source": [
    "train_df = pd.read_csv('/data/wikiart/wikiart_Painting100k/MultitaskPainting100k_Dataset_groundtruth/groundtruth_multiloss_train_header.csv')\n",
    "valid_df = pd.read_csv('/data/wikiart/wikiart_Painting100k/MultitaskPainting100k_Dataset_groundtruth/groundtruth_multiloss_test_header.csv')\n",
    "print(len(train_df), len(valid_df))\n",
    "\n",
    "train_df['img_path'] = train_df.apply(lambda x: join('/data/wikiart/wikiart_Painting100k/images_256minside',x.filename),1)\n",
    "valid_df['img_path'] = valid_df.apply(lambda x: join('/data/wikiart/wikiart_Painting100k/images_256minside',x.filename),1)\n",
    "\n",
    "class_dict_genre = {}\n",
    "for i, genre in enumerate(np.sort(train_df.genre.unique())):\n",
    "    train_df.loc[train_df.genre==genre, 'class_genre'] = i\n",
    "    valid_df.loc[valid_df.genre==genre, 'class_genre'] = i\n",
    "    class_dict_genre.update({i:genre})\n",
    "pd.concat([train_df.genre.value_counts().to_frame('train_counts'), valid_df.genre.value_counts().to_frame('valid_counts')],1)"
   ]
  },
  {
   "cell_type": "code",
   "execution_count": null,
   "metadata": {},
   "outputs": [],
   "source": [
    "train_df = train_df[train_df.genre.isin(['pastorale','miniature','bird-and-flower painting','yakusha-e',\n",
    "                              'advertisement','calligraphy','bijinga','vanitas','shan shui','quadratura','panorama','tessellation','cloudscape'])==False]\n",
    "class_dict_genre = {}\n",
    "for i, genre in enumerate(np.sort(train_df.genre.unique())):\n",
    "    train_df.loc[train_df.genre==genre, 'class_genre'] = i\n",
    "    class_dict_genre.update({i:genre})\n",
    "\n",
    "class_dict_genre"
   ]
  },
  {
   "cell_type": "markdown",
   "metadata": {},
   "source": [
    "#### Clip model"
   ]
  },
  {
   "cell_type": "code",
   "execution_count": null,
   "metadata": {},
   "outputs": [],
   "source": [
    "from clip.model import build_model\n",
    "import clip"
   ]
  },
  {
   "cell_type": "code",
   "execution_count": null,
   "metadata": {
    "scrolled": true,
    "tags": []
   },
   "outputs": [],
   "source": [
    "clip_model, preprocess = clip.load(\"ViT-B/32\", device)\n",
    "clip_model.float()"
   ]
  },
  {
   "cell_type": "raw",
   "metadata": {},
   "source": []
  },
  {
   "cell_type": "code",
   "execution_count": null,
   "metadata": {},
   "outputs": [],
   "source": [
    "train_df = train_df.reset_index(drop=True)"
   ]
  },
  {
   "cell_type": "code",
   "execution_count": null,
   "metadata": {},
   "outputs": [],
   "source": [
    "tmp_train = train_df.groupby('genre', group_keys=False).apply(lambda df: df.sample(142))"
   ]
  },
  {
   "cell_type": "code",
   "execution_count": null,
   "metadata": {},
   "outputs": [],
   "source": [
    "features, labels = [], []\n",
    "for i, row in tqdm(tmp_train.iterrows()):\n",
    "    image = Image.open(row.img_path).convert('RGB')\n",
    "    img_tr = preprocess(image).unsqueeze(0)\n",
    "    out = clip_model.visual(img_tr.to(device))\n",
    "    features.append(out.detach().cpu().numpy())\n",
    "    labels.append(row.class_genre)"
   ]
  },
  {
   "cell_type": "code",
   "execution_count": null,
   "metadata": {},
   "outputs": [],
   "source": [
    "feat = np.concatenate(features)"
   ]
  },
  {
   "cell_type": "code",
   "execution_count": null,
   "metadata": {},
   "outputs": [],
   "source": [
    "feat.shape"
   ]
  },
  {
   "cell_type": "code",
   "execution_count": null,
   "metadata": {},
   "outputs": [],
   "source": [
    "out = pd.DataFrame(feat)\n",
    "out['labels'] = labels\n",
    "out = out.groupby('labels').mean()"
   ]
  },
  {
   "cell_type": "code",
   "execution_count": null,
   "metadata": {},
   "outputs": [],
   "source": [
    "clustering = AgglomerativeClustering(n_clusters=17).fit(out.values)"
   ]
  },
  {
   "cell_type": "code",
   "execution_count": null,
   "metadata": {},
   "outputs": [],
   "source": [
    "clusters = pd.DataFrame([class_dict_genre]).T\n",
    "clusters = clusters[0].to_frame('genre')\n",
    "clusters['cluster'] = clustering.labels_\n",
    "clusters = clusters.sort_values('cluster')\n",
    "clusters = clusters.merge(train_df.groupby('genre').size().to_frame('counts').reset_index())"
   ]
  },
  {
   "cell_type": "code",
   "execution_count": null,
   "metadata": {},
   "outputs": [],
   "source": [
    "clusters"
   ]
  },
  {
   "cell_type": "code",
   "execution_count": null,
   "metadata": {},
   "outputs": [],
   "source": [
    "def get_concat_h(im1, im2):\n",
    "    dst = Image.new('RGB', (im1.width + im2.width, max(im1.height, im2.height)), color=(256, 256, 256))\n",
    "    dst.paste(im1, (0, 0))\n",
    "    dst.paste(im2, (im1.width, 0))\n",
    "    return dst\n",
    "\n",
    "def get_concat_v(im1, im2):\n",
    "    dst = Image.new('RGB', (max(im1.width,im2.width), im1.height + im2.height), color=(256, 256, 256))\n",
    "    dst.paste(im1, (0, 0))\n",
    "    dst.paste(im2, (0, im1.height))\n",
    "    return dst\n",
    "\n",
    "\n",
    "def images_block(df, shape=(224,224)):\n",
    "    im = image_processing(Image.open(df.iloc[0].img_path).convert('RGB'), pad_color='white', shape=shape)\n",
    "    for i in range(1,len(df)):\n",
    "        im = get_concat_h(im,image_processing(Image.open(df.iloc[i].img_path).convert('RGB'), pad_color='white', shape=shape))\n",
    "    return im\n",
    "\n",
    "def image_processing(x, shape=306, pad_color='black'):\n",
    "    desired_size = max(x.size)\n",
    "    new_size = x.size\n",
    "    delta_w = desired_size - new_size[0]\n",
    "    delta_h = desired_size - new_size[1]\n",
    "    padding = (delta_w//2, delta_h//2, delta_w-(delta_w//2), delta_h-(delta_h//2))\n",
    "    if pad_color == 'white':\n",
    "        new_im = ImageOps.expand(x, padding, fill=(256, 256, 256))\n",
    "    else:\n",
    "        new_im = ImageOps.expand(x, padding)\n",
    "    new_im = transforms.Compose([transforms.Resize(shape)])(new_im)\n",
    "    return new_im"
   ]
  },
  {
   "cell_type": "code",
   "execution_count": null,
   "metadata": {},
   "outputs": [],
   "source": [
    "tmp = train_df[train_df.genre.isin(clusters[clusters.cluster==11].genre)]\n",
    "print(tmp.groupby('genre').size().values)\n",
    "tmp = tmp.groupby('genre', group_keys=False).apply(lambda df: df.sample(1))\n",
    "print(tmp.genre.tolist())\n",
    "images_block(tmp)"
   ]
  },
  {
   "cell_type": "code",
   "execution_count": null,
   "metadata": {},
   "outputs": [],
   "source": [
    "tmp = train_df[train_df.genre.isin(clusters[clusters.cluster==1].genre)]\n",
    "print(tmp.groupby('genre').size().values)\n",
    "tmp = tmp.groupby('genre', group_keys=False).apply(lambda df: df.sample(1))\n",
    "print(tmp.genre.tolist())\n",
    "images_block(tmp)"
   ]
  },
  {
   "cell_type": "code",
   "execution_count": null,
   "metadata": {},
   "outputs": [],
   "source": [
    "tmp = train_df[train_df.genre.isin(clusters[clusters.cluster==2].genre)]\n",
    "print(tmp.groupby('genre').size().values)\n",
    "tmp = tmp.groupby('genre', group_keys=False).apply(lambda df: df.sample(1))\n",
    "print(tmp.genre.tolist())\n",
    "images_block(tmp)"
   ]
  },
  {
   "cell_type": "code",
   "execution_count": null,
   "metadata": {},
   "outputs": [],
   "source": [
    "tmp = train_df[train_df.genre.isin(clusters[clusters.cluster==3].genre)]\n",
    "print(tmp.groupby('genre').size().values)\n",
    "tmp = tmp.groupby('genre', group_keys=False).apply(lambda df: df.sample(1))\n",
    "print(tmp.genre.tolist())\n",
    "images_block(tmp)"
   ]
  },
  {
   "cell_type": "code",
   "execution_count": null,
   "metadata": {},
   "outputs": [],
   "source": [
    "tmp = train_df[train_df.genre.isin(clusters[clusters.cluster==4].genre)]\n",
    "print(tmp.groupby('genre').size().values)\n",
    "tmp = tmp.groupby('genre', group_keys=False).apply(lambda df: df.sample(1))\n",
    "print(tmp.genre.tolist())\n",
    "images_block(tmp)"
   ]
  },
  {
   "cell_type": "code",
   "execution_count": null,
   "metadata": {},
   "outputs": [],
   "source": [
    "tmp = train_df[train_df.genre.isin(clusters[clusters.cluster==5].genre)]\n",
    "print(tmp.groupby('genre').size().values)\n",
    "tmp = tmp.groupby('genre', group_keys=False).apply(lambda df: df.sample(1))\n",
    "print(tmp.genre.tolist())\n",
    "images_block(tmp)"
   ]
  },
  {
   "cell_type": "code",
   "execution_count": null,
   "metadata": {},
   "outputs": [],
   "source": [
    "tmp = train_df[train_df.genre.isin(clusters[clusters.cluster==6].genre)]\n",
    "print(tmp.groupby('genre').size().values)\n",
    "tmp = tmp.groupby('genre', group_keys=False).apply(lambda df: df.sample(1))\n",
    "print(tmp.genre.tolist())\n",
    "images_block(tmp)"
   ]
  },
  {
   "cell_type": "code",
   "execution_count": null,
   "metadata": {},
   "outputs": [],
   "source": [
    "tmp = train_df[train_df.genre.isin(clusters[clusters.cluster==8].genre)]\n",
    "print(tmp.groupby('genre').size().values)\n",
    "tmp = tmp.groupby('genre', group_keys=False).apply(lambda df: df.sample(1))\n",
    "print(tmp.genre.tolist())\n",
    "images_block(tmp)"
   ]
  },
  {
   "cell_type": "code",
   "execution_count": null,
   "metadata": {},
   "outputs": [],
   "source": [
    "tmp = train_df[train_df.genre.isin(clusters[clusters.cluster==9].genre)]\n",
    "print(tmp.groupby('genre').size().values)\n",
    "tmp = tmp.groupby('genre', group_keys=False).apply(lambda df: df.sample(1))\n",
    "print(tmp.genre.tolist())\n",
    "images_block(tmp)"
   ]
  },
  {
   "cell_type": "raw",
   "metadata": {},
   "source": []
  },
  {
   "cell_type": "code",
   "execution_count": null,
   "metadata": {},
   "outputs": [],
   "source": [
    "X = np.asarray(feat, dtype='float32')\n",
    "X_embedded = TSNE(n_components=2, init='random').fit_transform(X)"
   ]
  },
  {
   "cell_type": "code",
   "execution_count": null,
   "metadata": {},
   "outputs": [],
   "source": [
    "df = pd.DataFrame(X_embedded)\n",
    "df['labels'] = np.concatenate(np.array(labels).reshape(-1,1))\n",
    "# k = random.choices(range(41), k=15)\n",
    "# df = df[df.labels.isin(k)]\n",
    "df['labels'] = df.labels.apply(lambda x: class_dict_genre[x])"
   ]
  },
  {
   "cell_type": "code",
   "execution_count": null,
   "metadata": {},
   "outputs": [],
   "source": [
    "means = df.groupby('labels').mean().reset_index()"
   ]
  },
  {
   "cell_type": "code",
   "execution_count": null,
   "metadata": {},
   "outputs": [],
   "source": [
    "from scipy.spatial import distance\n",
    "a = (1, 2, 3)\n",
    "b = (4, 5, 6)\n",
    "dst = distance.euclidean(a, b)"
   ]
  },
  {
   "cell_type": "code",
   "execution_count": null,
   "metadata": {},
   "outputs": [],
   "source": [
    "dst"
   ]
  },
  {
   "cell_type": "code",
   "execution_count": null,
   "metadata": {},
   "outputs": [],
   "source": [
    "tuple(means.loc[means.labels=='abstract'][[0,1]].values[0])"
   ]
  },
  {
   "cell_type": "code",
   "execution_count": null,
   "metadata": {},
   "outputs": [],
   "source": [
    "means"
   ]
  },
  {
   "cell_type": "code",
   "execution_count": null,
   "metadata": {},
   "outputs": [],
   "source": [
    "means['wildlife_painting_dst'] = means.apply(lambda x: distance.euclidean((x[0],x[1]),tuple(means.loc[means.labels=='wildlife painting'][[0,1]].values[0])), 1)"
   ]
  },
  {
   "cell_type": "code",
   "execution_count": null,
   "metadata": {},
   "outputs": [],
   "source": [
    "colors = [\"#FF5733\",\"#DAF7A6\",\"#C0C0C0\",\"#FFC300\",\"#C70039\",\n",
    "          \"#FF00FF\",\"#008000\",\"#3498DB\",\"#2471A3\",\"#7D3C98\",\n",
    "          \"#00FFFF\",\"#7D6608\",\"#00FF00\",\"#000000\"]\n",
    "pal = sns.color_palette(colors)\n",
    "tmp = means.sort_values('wildlife_painting_dst').head(14) #[(means[0]<0)&(means[1]<0)]\n",
    "\n",
    "fig = plt.figure(figsize=(15, 11))\n",
    "sns.scatterplot(data=tmp, x=tmp[0], y=tmp[1], hue=\"labels\", palette=pal, s=300, alpha=1)"
   ]
  },
  {
   "cell_type": "code",
   "execution_count": null,
   "metadata": {},
   "outputs": [],
   "source": [
    "tmp"
   ]
  },
  {
   "cell_type": "code",
   "execution_count": null,
   "metadata": {},
   "outputs": [],
   "source": [
    "df"
   ]
  },
  {
   "cell_type": "code",
   "execution_count": null,
   "metadata": {},
   "outputs": [],
   "source": []
  },
  {
   "cell_type": "code",
   "execution_count": null,
   "metadata": {},
   "outputs": [],
   "source": []
  },
  {
   "cell_type": "code",
   "execution_count": null,
   "metadata": {},
   "outputs": [],
   "source": [
    "fig = plt.figure(figsize=(15, 11))\n",
    "sns.kdeplot(\n",
    "    data=df[df.labels.isin(['still life', 'vanitas'])],\n",
    "    x=df.columns[0],\n",
    "    y=df.columns[1],\n",
    "    hue=\"labels\",\n",
    "    thresh=.1,\n",
    "    palette='turbo',\n",
    "    fill=True,\n",
    "    alpha=.5\n",
    ")"
   ]
  },
  {
   "cell_type": "code",
   "execution_count": null,
   "metadata": {},
   "outputs": [],
   "source": [
    "tmp = df[df.labels.isin(['still life', 'vanitas'])]\n",
    "fig = plt.figure(figsize=(15, 11))\n",
    "sns.scatterplot(data=tmp, x=tmp[0], y=tmp[1], hue=\"labels\", palette='turbo', s=300, alpha=1)"
   ]
  },
  {
   "cell_type": "code",
   "execution_count": null,
   "metadata": {},
   "outputs": [],
   "source": []
  }
 ],
 "metadata": {
  "kernelspec": {
   "display_name": "Python 3",
   "language": "python",
   "name": "python3"
  },
  "language_info": {
   "codemirror_mode": {
    "name": "ipython",
    "version": 3
   },
   "file_extension": ".py",
   "mimetype": "text/x-python",
   "name": "python",
   "nbconvert_exporter": "python",
   "pygments_lexer": "ipython3",
   "version": "3.6.9"
  }
 },
 "nbformat": 4,
 "nbformat_minor": 5
}
