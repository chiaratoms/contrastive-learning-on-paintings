{
 "cells": [
  {
   "cell_type": "code",
   "execution_count": null,
   "metadata": {},
   "outputs": [],
   "source": [
    "import random\n",
    "import numpy as np\n",
    "import pandas as pd\n",
    "import seaborn as sns\n",
    "from PIL import Image\n",
    "from tqdm import tqdm\n",
    "from os.path import join\n",
    "import matplotlib.pyplot as plt\n",
    "from sklearn.manifold import TSNE\n",
    "device='cuda:0'"
   ]
  },
  {
   "cell_type": "code",
   "execution_count": null,
   "metadata": {},
   "outputs": [],
   "source": [
    "train_df = pd.read_csv('/data/wikiart/wikiart_Painting100k/MultitaskPainting100k_Dataset_groundtruth/groundtruth_multiloss_train_header.csv')\n",
    "valid_df = pd.read_csv('/data/wikiart/wikiart_Painting100k/MultitaskPainting100k_Dataset_groundtruth/groundtruth_multiloss_test_header.csv')\n",
    "print(len(train_df), len(valid_df))\n",
    "\n",
    "train_df['img_path'] = train_df.apply(lambda x: join('/data/wikiart/wikiart_Painting100k/images_256minside',x.filename),1)\n",
    "valid_df['img_path'] = valid_df.apply(lambda x: join('/data/wikiart/wikiart_Painting100k/images_256minside',x.filename),1)\n",
    "\n",
    "class_dict_genre = {}\n",
    "for i, genre in enumerate(np.sort(train_df.genre.unique())):\n",
    "    train_df.loc[train_df.genre==genre, 'class_genre'] = i\n",
    "    valid_df.loc[valid_df.genre==genre, 'class_genre'] = i\n",
    "    class_dict_genre.update({i:genre})\n",
    "pd.concat([train_df.genre.value_counts().to_frame('train_counts'), valid_df.genre.value_counts().to_frame('valid_counts')],1)"
   ]
  },
  {
   "cell_type": "code",
   "execution_count": null,
   "metadata": {},
   "outputs": [],
   "source": [
    "class_dict_genre"
   ]
  },
  {
   "cell_type": "markdown",
   "metadata": {},
   "source": [
    "#### Clip model"
   ]
  },
  {
   "cell_type": "code",
   "execution_count": null,
   "metadata": {},
   "outputs": [],
   "source": [
    "from clip.model import build_model\n",
    "import clip"
   ]
  },
  {
   "cell_type": "code",
   "execution_count": null,
   "metadata": {
    "scrolled": true,
    "tags": []
   },
   "outputs": [],
   "source": [
    "clip_model, preprocess = clip.load(\"ViT-B/32\", device)\n",
    "clip_model.float()"
   ]
  },
  {
   "cell_type": "code",
   "execution_count": null,
   "metadata": {},
   "outputs": [],
   "source": [
    "c = 0"
   ]
  },
  {
   "cell_type": "code",
   "execution_count": null,
   "metadata": {},
   "outputs": [],
   "source": [
    "row = train_df[train_df.genre=='cloudscape'].iloc[c]; c+=1\n",
    "print(row.genre)\n",
    "image = Image.open(row.img_path).convert('RGB')\n",
    "img_tr = preprocess(image).unsqueeze(0)\n",
    "out = clip_model.visual(img_tr.to(device))\n",
    "image"
   ]
  },
  {
   "cell_type": "raw",
   "metadata": {},
   "source": []
  },
  {
   "cell_type": "code",
   "execution_count": null,
   "metadata": {},
   "outputs": [],
   "source": [
    "train_df = train_df.reset_index(drop=True)"
   ]
  },
  {
   "cell_type": "code",
   "execution_count": null,
   "metadata": {},
   "outputs": [],
   "source": [
    "len(train_df)"
   ]
  },
  {
   "cell_type": "code",
   "execution_count": null,
   "metadata": {},
   "outputs": [],
   "source": [
    "features, labels = [], []\n",
    "for i, row in tqdm(train_df.iterrows()):\n",
    "    image = Image.open(row.img_path).convert('RGB')\n",
    "    img_tr = preprocess(image).unsqueeze(0)\n",
    "    out = clip_model.visual(img_tr.to(device))\n",
    "    features.append(out.detach().cpu().numpy())\n",
    "    labels.append(row.class_genre)"
   ]
  },
  {
   "cell_type": "code",
   "execution_count": null,
   "metadata": {},
   "outputs": [],
   "source": [
    "feat = np.concatenate(features)\n",
    "X = np.asarray(feat, dtype='float32')\n",
    "X_embedded = TSNE(n_components=2, init='random').fit_transform(X)"
   ]
  },
  {
   "cell_type": "code",
   "execution_count": null,
   "metadata": {},
   "outputs": [],
   "source": [
    "df = pd.DataFrame(X_embedded)\n",
    "df['labels'] = np.concatenate(np.array(labels).reshape(-1,1))\n",
    "# k = random.choices(range(41), k=15)\n",
    "# df = df[df.labels.isin(k)]\n",
    "df['labels'] = df.labels.apply(lambda x: class_dict_genre[x])"
   ]
  },
  {
   "cell_type": "code",
   "execution_count": null,
   "metadata": {},
   "outputs": [],
   "source": [
    "df.head()"
   ]
  },
  {
   "cell_type": "code",
   "execution_count": null,
   "metadata": {},
   "outputs": [],
   "source": [
    "means = df.groupby('labels').mean().reset_index()"
   ]
  },
  {
   "cell_type": "code",
   "execution_count": null,
   "metadata": {},
   "outputs": [],
   "source": [
    "stds = df.groupby('labels').std().reset_index()"
   ]
  },
  {
   "cell_type": "code",
   "execution_count": null,
   "metadata": {},
   "outputs": [],
   "source": [
    "from scipy.spatial import distance\n",
    "a = (1, 2, 3)\n",
    "b = (4, 5, 6)\n",
    "dst = distance.euclidean(a, b)"
   ]
  },
  {
   "cell_type": "code",
   "execution_count": null,
   "metadata": {},
   "outputs": [],
   "source": [
    "dst"
   ]
  },
  {
   "cell_type": "code",
   "execution_count": null,
   "metadata": {},
   "outputs": [],
   "source": [
    "tuple(means.loc[means.labels=='abstract'][[0,1]].values[0])"
   ]
  },
  {
   "cell_type": "code",
   "execution_count": null,
   "metadata": {},
   "outputs": [],
   "source": [
    "means"
   ]
  },
  {
   "cell_type": "code",
   "execution_count": null,
   "metadata": {},
   "outputs": [],
   "source": [
    "means['bird-and-flower painting_dst'] = means.apply(lambda x: distance.euclidean((x[0],x[1]),tuple(means.loc[means.labels=='bird-and-flower painting'][[0,1]].values[0])), 1)"
   ]
  },
  {
   "cell_type": "code",
   "execution_count": null,
   "metadata": {},
   "outputs": [],
   "source": [
    "colors = [\"#FF5733\",\"#DAF7A6\",\"#C0C0C0\",\"#FFC300\",\"#C70039\",\n",
    "          \"#FF00FF\",\"#008000\",\"#3498DB\",\"#2471A3\",\"#7D3C98\",\n",
    "          \"#00FFFF\",\"#7D6608\",\"#00FF00\",\"#000000\"]\n",
    "pal = sns.color_palette(colors)\n",
    "tmp = means.sort_values('bird-and-flower painting_dst').head(14) #[(means[0]<0)&(means[1]<0)]\n",
    "\n",
    "fig = plt.figure(figsize=(15, 11))\n",
    "sns.scatterplot(data=tmp, x=tmp[0], y=tmp[1], hue=\"labels\", palette=pal, s=300, alpha=1)"
   ]
  },
  {
   "cell_type": "code",
   "execution_count": null,
   "metadata": {},
   "outputs": [],
   "source": [
    "tmp"
   ]
  },
  {
   "cell_type": "code",
   "execution_count": null,
   "metadata": {},
   "outputs": [],
   "source": [
    "#df"
   ]
  },
  {
   "cell_type": "code",
   "execution_count": null,
   "metadata": {},
   "outputs": [],
   "source": []
  },
  {
   "cell_type": "code",
   "execution_count": null,
   "metadata": {},
   "outputs": [],
   "source": []
  },
  {
   "cell_type": "code",
   "execution_count": null,
   "metadata": {},
   "outputs": [],
   "source": [
    "fig = plt.figure(figsize=(15, 11))\n",
    "sns.kdeplot(\n",
    "    data=df[df.labels.isin(['bird-and-flower painting', 'animal painting'])],\n",
    "    x=df.columns[0],\n",
    "    y=df.columns[1],\n",
    "    hue=\"labels\",\n",
    "    thresh=.1,\n",
    "    palette='rainbow',\n",
    "    fill=True,\n",
    "    alpha=.5\n",
    ")"
   ]
  },
  {
   "cell_type": "code",
   "execution_count": null,
   "metadata": {},
   "outputs": [],
   "source": [
    "tmp = df[df.labels.isin(['bird-and-flower painting', 'animal painting'])]\n",
    "fig = plt.figure(figsize=(15, 11))\n",
    "sns.scatterplot(data=tmp, x=tmp[0], y=tmp[1], hue=\"labels\", palette='rainbow', s=300, alpha=1)"
   ]
  },
  {
   "cell_type": "code",
   "execution_count": null,
   "metadata": {},
   "outputs": [],
   "source": []
  }
 ],
 "metadata": {
  "kernelspec": {
   "display_name": "Python 3",
   "language": "python",
   "name": "python3"
  },
  "language_info": {
   "codemirror_mode": {
    "name": "ipython",
    "version": 3
   },
   "file_extension": ".py",
   "mimetype": "text/x-python",
   "name": "python",
   "nbconvert_exporter": "python",
   "pygments_lexer": "ipython3",
   "version": "3.6.9"
  }
 },
 "nbformat": 4,
 "nbformat_minor": 5
}
