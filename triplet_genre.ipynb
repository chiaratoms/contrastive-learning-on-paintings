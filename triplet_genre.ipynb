{
 "cells": [
  {
   "cell_type": "code",
   "execution_count": 1,
   "metadata": {},
   "outputs": [],
   "source": [
    "from torch.utils.data import DataLoader, Dataset\n",
    "from sklearn.metrics import accuracy_score\n",
    "from torch.optim import Adam, lr_scheduler\n",
    "from torchvision import transforms as T\n",
    "import torchvision.models as models\n",
    "import matplotlib.pyplot as plt\n",
    "import os\n",
    "from os.path import join\n",
    "from glob import glob\n",
    "from PIL import Image\n",
    "from torch import nn\n",
    "import pandas as pd\n",
    "import numpy as np\n",
    "import torchvision\n",
    "import torch\n",
    "#import joblib\n",
    "from sklearn import svm\n",
    "import random\n",
    "import tarfile\n",
    "import io\n",
    "from tqdm import tqdm\n",
    "#from pytorch_pretrained_vit import ViT\n",
    "#import vision_transformer as vits\n",
    "import warnings\n",
    "warnings.filterwarnings(\"ignore\")\n",
    "import encoding"
   ]
  },
  {
   "cell_type": "code",
   "execution_count": 2,
   "metadata": {},
   "outputs": [],
   "source": [
    "device = 'cuda:0'\n",
    "#device = 'cpu'"
   ]
  },
  {
   "cell_type": "code",
   "execution_count": 3,
   "metadata": {},
   "outputs": [],
   "source": [
    "#t = tarfile.open('/data/storage/other/WikiArt/wikiart_Painting100k/images_256minside.tar', 'r')\n",
    "#for member in tqdm(t.getmembers()):\n",
    "#    if \".jpg\" in member.name:\n",
    "#        t.extract(member, \"/data/Notebook/wiki_images\")"
   ]
  },
  {
   "cell_type": "code",
   "execution_count": 4,
   "metadata": {},
   "outputs": [],
   "source": [
    "train_df = pd.read_csv('/data/wikiart/wikiart_Painting100k/MultitaskPainting100k_Dataset_groundtruth/groundtruth_multiloss_train_header.csv')\n",
    "valid_df = pd.read_csv('/data/wikiart/wikiart_Painting100k/MultitaskPainting100k_Dataset_groundtruth/groundtruth_multiloss_test_header.csv')"
   ]
  },
  {
   "cell_type": "code",
   "execution_count": 5,
   "metadata": {},
   "outputs": [],
   "source": [
    "train_df['img_path'] = train_df.apply(lambda x: join('/data/wikiart/wikiart_Painting100k/images_256minside',x.filename),1)\n",
    "valid_df['img_path'] = valid_df.apply(lambda x: join('/data/wikiart/wikiart_Painting100k/images_256minside',x.filename),1)"
   ]
  },
  {
   "cell_type": "code",
   "execution_count": 6,
   "metadata": {},
   "outputs": [],
   "source": [
    "train_df = train_df.replace('wildlife painting', 'animal painting')\n",
    "train_df = train_df.replace('self-portrait', 'portrait')\n",
    "train_df = train_df.replace('poster', 'design')\n",
    "train_df = train_df.replace('advertisement', 'illustration')\n",
    "train_df = train_df.replace('cloudscape', 'landscape')\n",
    "train_df = train_df.replace('literary painting', 'mythological painting')\n",
    "train_df = train_df.replace('battle painting', 'history painting')\n",
    "train_df = train_df.replace('bird-and-flower painting', 'animal painting')\n",
    "train_df = train_df[train_df.genre.isin(['shan shui','panorama','miniature','pastorale','quadratura','vanitas','bijinga',\n",
    "                                        'calligraphy','yakusha-e'])==False]\n",
    "#train_df = train_df[train_df.genre.isin(['history painting','allegorical painting','interior','capriccio','veduta','caricature','tessellation'])==False]"
   ]
  },
  {
   "cell_type": "code",
   "execution_count": 7,
   "metadata": {},
   "outputs": [],
   "source": [
    "valid_df = valid_df.replace('wildlife painting', 'animal painting')\n",
    "valid_df = valid_df.replace('self-portrait', 'portrait')\n",
    "valid_df = valid_df.replace('poster', 'design')\n",
    "valid_df = valid_df.replace('advertisement', 'illustration')\n",
    "valid_df = valid_df.replace('cloudscape', 'landscape')\n",
    "valid_df = valid_df.replace('literary painting', 'mythological painting')\n",
    "valid_df = valid_df.replace('battle painting', 'history painting')\n",
    "valid_df = valid_df.replace('bird-and-flower painting', 'animal painting')\n",
    "valid_df = valid_df[valid_df.genre.isin(['shan shui','panorama','miniature','pastorale','quadratura','vanitas','bijinga',\n",
    "                                        'calligraphy','yakusha-e'])==False]\n",
    "#valid_df = valid_df[valid_df.genre.isin(['history painting','allegorical painting','interior','capriccio','veduta','caricature','tessellation'])==False]"
   ]
  },
  {
   "cell_type": "markdown",
   "metadata": {},
   "source": [
    "#train_df=pd.read_pickle('/data/Notebook/train_df_db.pkl')"
   ]
  },
  {
   "cell_type": "code",
   "execution_count": 8,
   "metadata": {},
   "outputs": [],
   "source": [
    "#train_df['img_path']=train_df[\"img_path\"].map(lambda x: x[:-5] + \".jpg\")"
   ]
  },
  {
   "cell_type": "code",
   "execution_count": 9,
   "metadata": {},
   "outputs": [
    {
     "data": {
      "text/html": [
       "<div>\n",
       "<style scoped>\n",
       "    .dataframe tbody tr th:only-of-type {\n",
       "        vertical-align: middle;\n",
       "    }\n",
       "\n",
       "    .dataframe tbody tr th {\n",
       "        vertical-align: top;\n",
       "    }\n",
       "\n",
       "    .dataframe thead th {\n",
       "        text-align: right;\n",
       "    }\n",
       "</style>\n",
       "<table border=\"1\" class=\"dataframe\">\n",
       "  <thead>\n",
       "    <tr style=\"text-align: right;\">\n",
       "      <th></th>\n",
       "      <th>filename</th>\n",
       "      <th>artist</th>\n",
       "      <th>style</th>\n",
       "      <th>genre</th>\n",
       "      <th>img_path</th>\n",
       "    </tr>\n",
       "  </thead>\n",
       "  <tbody>\n",
       "    <tr>\n",
       "      <th>0</th>\n",
       "      <td>102257.jpg</td>\n",
       "      <td>Barnett Newman</td>\n",
       "      <td>Color Field Painting</td>\n",
       "      <td>abstract</td>\n",
       "      <td>/data/wikiart/wikiart_Painting100k/images_256m...</td>\n",
       "    </tr>\n",
       "    <tr>\n",
       "      <th>1</th>\n",
       "      <td>29855.jpg</td>\n",
       "      <td>Tosa Mitsuoki</td>\n",
       "      <td>Yamato-e</td>\n",
       "      <td>mythological painting</td>\n",
       "      <td>/data/wikiart/wikiart_Painting100k/images_256m...</td>\n",
       "    </tr>\n",
       "    <tr>\n",
       "      <th>2</th>\n",
       "      <td>63861.jpg</td>\n",
       "      <td>Barnett Newman</td>\n",
       "      <td>Color Field Painting</td>\n",
       "      <td>abstract</td>\n",
       "      <td>/data/wikiart/wikiart_Painting100k/images_256m...</td>\n",
       "    </tr>\n",
       "    <tr>\n",
       "      <th>3</th>\n",
       "      <td>84512.jpg</td>\n",
       "      <td>Franz Richard Unterberger</td>\n",
       "      <td>Romanticism</td>\n",
       "      <td>cityscape</td>\n",
       "      <td>/data/wikiart/wikiart_Painting100k/images_256m...</td>\n",
       "    </tr>\n",
       "    <tr>\n",
       "      <th>4</th>\n",
       "      <td>53180.jpg</td>\n",
       "      <td>Hiroshige</td>\n",
       "      <td>Ukiyo-e</td>\n",
       "      <td>animal painting</td>\n",
       "      <td>/data/wikiart/wikiart_Painting100k/images_256m...</td>\n",
       "    </tr>\n",
       "  </tbody>\n",
       "</table>\n",
       "</div>"
      ],
      "text/plain": [
       "     filename                     artist                 style  \\\n",
       "0  102257.jpg             Barnett Newman  Color Field Painting   \n",
       "1   29855.jpg              Tosa Mitsuoki              Yamato-e   \n",
       "2   63861.jpg             Barnett Newman  Color Field Painting   \n",
       "3   84512.jpg  Franz Richard Unterberger           Romanticism   \n",
       "4   53180.jpg                  Hiroshige               Ukiyo-e   \n",
       "\n",
       "                   genre                                           img_path  \n",
       "0               abstract  /data/wikiart/wikiart_Painting100k/images_256m...  \n",
       "1  mythological painting  /data/wikiart/wikiart_Painting100k/images_256m...  \n",
       "2               abstract  /data/wikiart/wikiart_Painting100k/images_256m...  \n",
       "3              cityscape  /data/wikiart/wikiart_Painting100k/images_256m...  \n",
       "4        animal painting  /data/wikiart/wikiart_Painting100k/images_256m...  "
      ]
     },
     "execution_count": 9,
     "metadata": {},
     "output_type": "execute_result"
    }
   ],
   "source": [
    "train_df.head()"
   ]
  },
  {
   "cell_type": "code",
   "execution_count": 10,
   "metadata": {},
   "outputs": [
    {
     "data": {
      "text/plain": [
       "portrait                 12648\n",
       "landscape                10493\n",
       "genre painting            9858\n",
       "abstract                  6316\n",
       "religious painting        5086\n",
       "cityscape                 3734\n",
       "sketch and study          2552\n",
       "illustration              2229\n",
       "still life                2161\n",
       "symbolic painting         1686\n",
       "mythological painting     1667\n",
       "design                    1557\n",
       "nude painting (nu)        1553\n",
       "figurative                1501\n",
       "animal painting           1360\n",
       "marina                    1242\n",
       "flower painting           1128\n",
       "history painting           840\n",
       "allegorical painting       707\n",
       "interior                   487\n",
       "capriccio                  169\n",
       "veduta                     167\n",
       "caricature                 142\n",
       "tessellation               127\n",
       "Name: genre, dtype: int64"
      ]
     },
     "execution_count": 10,
     "metadata": {},
     "output_type": "execute_result"
    }
   ],
   "source": [
    "train_df.genre.value_counts()"
   ]
  },
  {
   "cell_type": "code",
   "execution_count": 11,
   "metadata": {},
   "outputs": [],
   "source": [
    "#train_df = train_df.rename(columns={'name': 'genre'})"
   ]
  },
  {
   "cell_type": "code",
   "execution_count": null,
   "metadata": {},
   "outputs": [],
   "source": []
  },
  {
   "cell_type": "code",
   "execution_count": 12,
   "metadata": {},
   "outputs": [],
   "source": [
    "class_dict_genre = {}\n",
    "for i, genre in enumerate(np.sort(train_df.genre.unique())):\n",
    "    train_df.loc[train_df.genre==genre, 'class_genre'] = i\n",
    "    valid_df.loc[valid_df.genre==genre, 'class_genre'] = i\n",
    "    class_dict_genre.update({i:genre})"
   ]
  },
  {
   "cell_type": "code",
   "execution_count": 13,
   "metadata": {},
   "outputs": [],
   "source": [
    "dict_genre = {v: k for k, v in class_dict_genre.items()}"
   ]
  },
  {
   "cell_type": "code",
   "execution_count": null,
   "metadata": {},
   "outputs": [],
   "source": []
  },
  {
   "cell_type": "markdown",
   "metadata": {},
   "source": [
    "def define_triplets(df, class_name, rep = 1):\n",
    "    triplets_df = pd.DataFrame(columns=['anchor','positive','negative','anchor_class'])\n",
    "    df['anchor_count'], df['positive_count'], df['negative_count'] = 0, 0, 0\n",
    "    idx = 0\n",
    "    while (np.unique(df.anchor_count.tolist()) == rep).all() == False:\n",
    "        for i, row in tqdm(df.iterrows()):\n",
    "            if row.anchor_count<rep:\n",
    "                triplets_df.loc[idx, 'anchor'] = row.img_path\n",
    "                triplets_df.loc[idx, 'anchor_class'] = row[class_name]\n",
    "                df.loc[i, 'anchor_count'] += 1\n",
    "\n",
    "                pos_samples = df[(df[class_name]==row[class_name]) & (df.positive_count<rep)]\n",
    "                if len(pos_samples)==0:\n",
    "                    continue\n",
    "                positive = pos_samples.sample(1).iloc[0]\n",
    "                df.loc[df.img_path==positive.img_path, 'positive_count'] += 1\n",
    "                triplets_df.loc[idx, 'positive'] = positive.img_path\n",
    "\n",
    "                neg_samples = df[(df[class_name]!=row[class_name]) & (df.negative_count<rep)]\n",
    "                if len(neg_samples)==0:\n",
    "                    continue\n",
    "                negative = neg_samples.sample(1).iloc[0]\n",
    "                df.loc[df.img_path==negative.img_path, 'negative_count'] += 1\n",
    "                triplets_df.loc[idx, 'negative'] = negative.img_path\n",
    "                idx += 1\n",
    "    return triplets_df"
   ]
  },
  {
   "cell_type": "code",
   "execution_count": 14,
   "metadata": {},
   "outputs": [
    {
     "data": {
      "text/html": [
       "<div>\n",
       "<style scoped>\n",
       "    .dataframe tbody tr th:only-of-type {\n",
       "        vertical-align: middle;\n",
       "    }\n",
       "\n",
       "    .dataframe tbody tr th {\n",
       "        vertical-align: top;\n",
       "    }\n",
       "\n",
       "    .dataframe thead th {\n",
       "        text-align: right;\n",
       "    }\n",
       "</style>\n",
       "<table border=\"1\" class=\"dataframe\">\n",
       "  <thead>\n",
       "    <tr style=\"text-align: right;\">\n",
       "      <th></th>\n",
       "      <th>filename</th>\n",
       "      <th>artist</th>\n",
       "      <th>style</th>\n",
       "      <th>genre</th>\n",
       "      <th>img_path</th>\n",
       "      <th>class_genre</th>\n",
       "    </tr>\n",
       "  </thead>\n",
       "  <tbody>\n",
       "    <tr>\n",
       "      <th>0</th>\n",
       "      <td>102257.jpg</td>\n",
       "      <td>Barnett Newman</td>\n",
       "      <td>Color Field Painting</td>\n",
       "      <td>abstract</td>\n",
       "      <td>/data/wikiart/wikiart_Painting100k/images_256m...</td>\n",
       "      <td>0.0</td>\n",
       "    </tr>\n",
       "    <tr>\n",
       "      <th>1</th>\n",
       "      <td>29855.jpg</td>\n",
       "      <td>Tosa Mitsuoki</td>\n",
       "      <td>Yamato-e</td>\n",
       "      <td>mythological painting</td>\n",
       "      <td>/data/wikiart/wikiart_Painting100k/images_256m...</td>\n",
       "      <td>15.0</td>\n",
       "    </tr>\n",
       "    <tr>\n",
       "      <th>2</th>\n",
       "      <td>63861.jpg</td>\n",
       "      <td>Barnett Newman</td>\n",
       "      <td>Color Field Painting</td>\n",
       "      <td>abstract</td>\n",
       "      <td>/data/wikiart/wikiart_Painting100k/images_256m...</td>\n",
       "      <td>0.0</td>\n",
       "    </tr>\n",
       "    <tr>\n",
       "      <th>3</th>\n",
       "      <td>84512.jpg</td>\n",
       "      <td>Franz Richard Unterberger</td>\n",
       "      <td>Romanticism</td>\n",
       "      <td>cityscape</td>\n",
       "      <td>/data/wikiart/wikiart_Painting100k/images_256m...</td>\n",
       "      <td>5.0</td>\n",
       "    </tr>\n",
       "    <tr>\n",
       "      <th>4</th>\n",
       "      <td>53180.jpg</td>\n",
       "      <td>Hiroshige</td>\n",
       "      <td>Ukiyo-e</td>\n",
       "      <td>animal painting</td>\n",
       "      <td>/data/wikiart/wikiart_Painting100k/images_256m...</td>\n",
       "      <td>2.0</td>\n",
       "    </tr>\n",
       "    <tr>\n",
       "      <th>...</th>\n",
       "      <td>...</td>\n",
       "      <td>...</td>\n",
       "      <td>...</td>\n",
       "      <td>...</td>\n",
       "      <td>...</td>\n",
       "      <td>...</td>\n",
       "    </tr>\n",
       "    <tr>\n",
       "      <th>69816</th>\n",
       "      <td>9400.jpg</td>\n",
       "      <td>Clarence Holbrook Carter</td>\n",
       "      <td>Abstract Expressionism</td>\n",
       "      <td>abstract</td>\n",
       "      <td>/data/wikiart/wikiart_Painting100k/images_256m...</td>\n",
       "      <td>0.0</td>\n",
       "    </tr>\n",
       "    <tr>\n",
       "      <th>69817</th>\n",
       "      <td>21240.jpg</td>\n",
       "      <td>Cesar Domela</td>\n",
       "      <td>Concretism</td>\n",
       "      <td>abstract</td>\n",
       "      <td>/data/wikiart/wikiart_Painting100k/images_256m...</td>\n",
       "      <td>0.0</td>\n",
       "    </tr>\n",
       "    <tr>\n",
       "      <th>69818</th>\n",
       "      <td>17971.jpg</td>\n",
       "      <td>Pisanello</td>\n",
       "      <td>Early Renaissance</td>\n",
       "      <td>sketch and study</td>\n",
       "      <td>/data/wikiart/wikiart_Painting100k/images_256m...</td>\n",
       "      <td>19.0</td>\n",
       "    </tr>\n",
       "    <tr>\n",
       "      <th>69819</th>\n",
       "      <td>12758.jpg</td>\n",
       "      <td>Michelangelo</td>\n",
       "      <td>High Renaissance</td>\n",
       "      <td>nude painting (nu)</td>\n",
       "      <td>/data/wikiart/wikiart_Painting100k/images_256m...</td>\n",
       "      <td>16.0</td>\n",
       "    </tr>\n",
       "    <tr>\n",
       "      <th>69820</th>\n",
       "      <td>11921.jpg</td>\n",
       "      <td>Andy Warhol</td>\n",
       "      <td>Pop Art</td>\n",
       "      <td>animal painting</td>\n",
       "      <td>/data/wikiart/wikiart_Painting100k/images_256m...</td>\n",
       "      <td>2.0</td>\n",
       "    </tr>\n",
       "  </tbody>\n",
       "</table>\n",
       "<p>69410 rows × 6 columns</p>\n",
       "</div>"
      ],
      "text/plain": [
       "         filename                     artist                   style  \\\n",
       "0      102257.jpg             Barnett Newman    Color Field Painting   \n",
       "1       29855.jpg              Tosa Mitsuoki                Yamato-e   \n",
       "2       63861.jpg             Barnett Newman    Color Field Painting   \n",
       "3       84512.jpg  Franz Richard Unterberger             Romanticism   \n",
       "4       53180.jpg                  Hiroshige                 Ukiyo-e   \n",
       "...           ...                        ...                     ...   \n",
       "69816    9400.jpg   Clarence Holbrook Carter  Abstract Expressionism   \n",
       "69817   21240.jpg               Cesar Domela              Concretism   \n",
       "69818   17971.jpg                  Pisanello       Early Renaissance   \n",
       "69819   12758.jpg               Michelangelo        High Renaissance   \n",
       "69820   11921.jpg                Andy Warhol                 Pop Art   \n",
       "\n",
       "                       genre  \\\n",
       "0                   abstract   \n",
       "1      mythological painting   \n",
       "2                   abstract   \n",
       "3                  cityscape   \n",
       "4            animal painting   \n",
       "...                      ...   \n",
       "69816               abstract   \n",
       "69817               abstract   \n",
       "69818       sketch and study   \n",
       "69819     nude painting (nu)   \n",
       "69820        animal painting   \n",
       "\n",
       "                                                img_path  class_genre  \n",
       "0      /data/wikiart/wikiart_Painting100k/images_256m...          0.0  \n",
       "1      /data/wikiart/wikiart_Painting100k/images_256m...         15.0  \n",
       "2      /data/wikiart/wikiart_Painting100k/images_256m...          0.0  \n",
       "3      /data/wikiart/wikiart_Painting100k/images_256m...          5.0  \n",
       "4      /data/wikiart/wikiart_Painting100k/images_256m...          2.0  \n",
       "...                                                  ...          ...  \n",
       "69816  /data/wikiart/wikiart_Painting100k/images_256m...          0.0  \n",
       "69817  /data/wikiart/wikiart_Painting100k/images_256m...          0.0  \n",
       "69818  /data/wikiart/wikiart_Painting100k/images_256m...         19.0  \n",
       "69819  /data/wikiart/wikiart_Painting100k/images_256m...         16.0  \n",
       "69820  /data/wikiart/wikiart_Painting100k/images_256m...          2.0  \n",
       "\n",
       "[69410 rows x 6 columns]"
      ]
     },
     "execution_count": 14,
     "metadata": {},
     "output_type": "execute_result"
    }
   ],
   "source": [
    "train_df"
   ]
  },
  {
   "cell_type": "code",
   "execution_count": 15,
   "metadata": {},
   "outputs": [
    {
     "data": {
      "text/plain": [
       "portrait                 5482\n",
       "landscape                4518\n",
       "genre painting           4239\n",
       "abstract                 2756\n",
       "religious painting       2168\n",
       "cityscape                1575\n",
       "sketch and study         1040\n",
       "illustration              957\n",
       "still life                913\n",
       "mythological painting     764\n",
       "symbolic painting         744\n",
       "design                    695\n",
       "nude painting (nu)        672\n",
       "figurative                603\n",
       "animal painting           594\n",
       "marina                    534\n",
       "flower painting           441\n",
       "history painting          378\n",
       "allegorical painting      311\n",
       "interior                  174\n",
       "caricature                 84\n",
       "capriccio                  66\n",
       "veduta                     66\n",
       "tessellation               50\n",
       "Name: genre, dtype: int64"
      ]
     },
     "execution_count": 15,
     "metadata": {},
     "output_type": "execute_result"
    }
   ],
   "source": [
    "valid_df.genre.value_counts()"
   ]
  },
  {
   "cell_type": "markdown",
   "metadata": {},
   "source": [
    "def sample_pos_neg_anchor(df, n_samples_per_class=2):\n",
    "    res = pd.DataFrame()\n",
    "    for genre in df.genre.unique():\n",
    "        df_genre_a = df.loc[df.genre == genre]\n",
    "        df_genre_b = df.loc[df.genre != genre]\n",
    "        positive = df_genre_a.sample(n_samples_per_class, replace=True).img_path\n",
    "        anchors = df_genre_a.sample(n_samples_per_class, replace=True).img_path\n",
    "        #for i, x in enumerate(np.equal(positive.values, anchors.values)):\n",
    "            #if x:\n",
    "                # need to resample positive because it is equal to anchor\n",
    "                # explicitly set different\n",
    "                \n",
    "            # positive.values[i] = df_genre_a.loc[df_genre_a.img_path != anchors.values[i]].sample().img_path\n",
    "\n",
    "        negative = df_genre_b.sample(n_samples_per_class, replace=True).img_path\n",
    "        genres = [dict_genre[genre]] * n_samples_per_class\n",
    "        tmp = pd.DataFrame(np.vstack([anchors.values, positive.values, negative.values, genres]).T, columns=[\"anchor\", \"positive\", \"negative\", \"anchor_class\"])\n",
    "        res = pd.concat([res, tmp])\n",
    "        res['anchor'] = res['anchor'].astype(\"string\")\n",
    "        res['positive'] = res['positive'].astype(\"string\")\n",
    "        res['negative'] = res['negative'].astype(\"string\")\n",
    "        res = res.loc[res.anchor!=res.positive]\n",
    "    # assert (res.anchor.values != res.positive.values).all()\n",
    "    return res"
   ]
  },
  {
   "cell_type": "markdown",
   "metadata": {},
   "source": [
    "train_df_sample = sample_pos_neg_anchor(train_df, 7000)"
   ]
  },
  {
   "cell_type": "markdown",
   "metadata": {},
   "source": [
    "valid_df_sample = sample_pos_neg_anchor(valid_df, 2000)"
   ]
  },
  {
   "cell_type": "markdown",
   "metadata": {},
   "source": [
    "train_df_sample = train_df_sample.drop_duplicates()"
   ]
  },
  {
   "cell_type": "markdown",
   "metadata": {},
   "source": [
    "valid_df_sample = valid_df_sample.drop_duplicates()"
   ]
  },
  {
   "cell_type": "code",
   "execution_count": 16,
   "metadata": {},
   "outputs": [],
   "source": [
    "train_transforms = T.Compose([\n",
    "                                T.Resize(256), \n",
    "                                T.RandomResizedCrop(size=224, scale=(0.3,1), ratio=(1,1)),\n",
    "                                T.RandomHorizontalFlip(p=0.5),\n",
    "                                T.ToTensor(),\n",
    "                                T.Normalize(mean=[0.485, 0.456, 0.406], \n",
    "                                            std=[0.229, 0.224, 0.225])\n",
    "                            ])\n",
    "\n",
    "valid_transforms = T.Compose([\n",
    "                                T.Resize(224), \n",
    "                                T.CenterCrop(224), \n",
    "                                T.ToTensor(),\n",
    "                                T.Normalize(mean=[0.485, 0.456, 0.406], \n",
    "                                            std=[0.229, 0.224, 0.225])\n",
    "                            ])"
   ]
  },
  {
   "cell_type": "code",
   "execution_count": 17,
   "metadata": {},
   "outputs": [],
   "source": [
    "tr = T.Compose([\n",
    "    T.Resize(256),\n",
    "    T.RandomResizedCrop(size=224, scale=(0.3,1), ratio=(1,1)),\n",
    "    T.RandomHorizontalFlip(p=0.5)\n",
    "])\n",
    "\n",
    "tr_v = T.Compose([\n",
    "    T.Resize(224),\n",
    "    T.CenterCrop(224)\n",
    "])"
   ]
  },
  {
   "cell_type": "code",
   "execution_count": 18,
   "metadata": {},
   "outputs": [
    {
     "data": {
      "image/png": "[encoded data removed]",
      "text/plain": [
       "<PIL.Image.Image image mode=RGB size=224x224 at 0x7F2D81F89128>"
      ]
     },
     "execution_count": 18,
     "metadata": {},
     "output_type": "execute_result"
    }
   ],
   "source": [
    "row = train_df.iloc[3]\n",
    "tr(Image.open(row.img_path))"
   ]
  },
  {
   "cell_type": "code",
   "execution_count": 19,
   "metadata": {},
   "outputs": [
    {
     "data": {
      "image/png": "[encoded data removed]",
      "text/plain": [
       "<PIL.Image.Image image mode=RGB size=224x224 at 0x7F2D75A91EB8>"
      ]
     },
     "execution_count": 19,
     "metadata": {},
     "output_type": "execute_result"
    }
   ],
   "source": [
    "tr_v(Image.open(row.img_path))"
   ]
  },
  {
   "cell_type": "code",
   "execution_count": 20,
   "metadata": {},
   "outputs": [
    {
     "name": "stdout",
     "output_type": "stream",
     "text": [
      "cityscape\n"
     ]
    }
   ],
   "source": [
    "print(row.genre)"
   ]
  },
  {
   "cell_type": "markdown",
   "metadata": {},
   "source": [
    "class ImageDataset(Dataset):\n",
    "    \n",
    "    def __init__(self, df, transform):\n",
    "        self.df = df\n",
    "        self.transform = transform\n",
    "        \n",
    "    def __len__(self):\n",
    "        return len(self.df)\n",
    "\n",
    "    def __getitem__(self, idx):\n",
    "        row = self.df.loc[idx]\n",
    "        anchor = Image.open(row.anchor).convert('RGB')\n",
    "        anchor_genre = [int(row.anchor_class)]\n",
    "        #anchor_style = [int(row.class_style)]\n",
    "        #anchor_artist = [int(row.class_artist)]\n",
    "        positive = Image.open(row.positive).convert('RGB')\n",
    "        negative = Image.open(row.negative).convert('RGB')\n",
    "        #negative_genre = [int(row.negative_class)]\n",
    "        \n",
    "        return self.transform(anchor), self.transform(positive), self.transform(negative), torch.LongTensor(anchor_genre)#, torch.LongTensor(negative_genre)"
   ]
  },
  {
   "cell_type": "code",
   "execution_count": 21,
   "metadata": {},
   "outputs": [],
   "source": [
    "class ImageDataset(Dataset):\n",
    "    \n",
    "    def __init__(self, df, transform, sample=None):\n",
    "        if sample: \n",
    "            self.df = df.groupby(by='genre').sample(sample)\n",
    "        else:\n",
    "            self.df = df\n",
    "            \n",
    "        self.transform = transform\n",
    "        \n",
    "    def __len__(self):\n",
    "        return len(self.df)\n",
    "\n",
    "    def __getitem__(self, idx):\n",
    "        anc = self.df.iloc[idx]    \n",
    "        pos = self.df[self.df.genre == anc.genre].sample(1).squeeze()\n",
    "        neg = self.df[self.df.genre != anc.genre].sample(1).squeeze()\n",
    "        anchor_class = int(anc.class_genre)\n",
    "                \n",
    "        anchorImg   = Image.open(anc.img_path).convert('RGB')\n",
    "        positiveImg = Image.open(pos.img_path).convert('RGB')\n",
    "        negativeImg = Image.open(neg.img_path).convert('RGB')\n",
    "        return self.transform(anchorImg), self.transform(positiveImg), self.transform(negativeImg), anchor_class"
   ]
  },
  {
   "cell_type": "code",
   "execution_count": 22,
   "metadata": {},
   "outputs": [],
   "source": [
    "batch_size = 8\n",
    "\n",
    "train_loader = DataLoader(ImageDataset(train_df, train_transforms), \n",
    "                          batch_size=batch_size, shuffle=True, \n",
    "                          num_workers = 6, pin_memory=False, \n",
    "                          drop_last=False)\n",
    "\n",
    "valid_loader = DataLoader(ImageDataset(valid_df, valid_transforms, sample=50),\n",
    "                          batch_size=batch_size, pin_memory=False, \n",
    "                          num_workers = 6, drop_last=False)"
   ]
  },
  {
   "cell_type": "markdown",
   "metadata": {},
   "source": [
    "pd.Series(positive_class).hist()\n",
    "pd.Series(negative_class).hist()"
   ]
  },
  {
   "cell_type": "markdown",
   "metadata": {},
   "source": [
    "df_temp.loc[df_temp['positive']==40].reset_index(drop=True).negative.hist(bins=80)"
   ]
  },
  {
   "cell_type": "code",
   "execution_count": 23,
   "metadata": {},
   "outputs": [],
   "source": [
    "def imshow(image):\n",
    "    npimg = image.numpy().transpose(1, 2, 0)\n",
    "    npimg = npimg/(npimg.max()-npimg.min())+0.5\n",
    "    plt.imshow(npimg)\n",
    "    plt.axis(\"off\")\n",
    "    plt.show()"
   ]
  },
  {
   "cell_type": "code",
   "execution_count": 24,
   "metadata": {},
   "outputs": [
    {
     "ename": "ValueError",
     "evalue": "too many values to unpack (expected 3)",
     "output_type": "error",
     "traceback": [
      "\u001b[0;31m---------------------------------------------------------------------------\u001b[0m",
      "\u001b[0;31mValueError\u001b[0m                                Traceback (most recent call last)",
      "\u001b[0;32m<ipython-input-24-fd77053048d8>\u001b[0m in \u001b[0;36m<module>\u001b[0;34m\u001b[0m\n\u001b[1;32m      1\u001b[0m \u001b[0mdataiter\u001b[0m \u001b[0;34m=\u001b[0m \u001b[0miter\u001b[0m\u001b[0;34m(\u001b[0m\u001b[0mtrain_loader\u001b[0m\u001b[0;34m)\u001b[0m\u001b[0;34m\u001b[0m\u001b[0;34m\u001b[0m\u001b[0m\n\u001b[0;32m----> 2\u001b[0;31m \u001b[0manchor\u001b[0m\u001b[0;34m,\u001b[0m \u001b[0mpositive\u001b[0m\u001b[0;34m,\u001b[0m \u001b[0mnegative\u001b[0m \u001b[0;34m=\u001b[0m \u001b[0mdataiter\u001b[0m\u001b[0;34m.\u001b[0m\u001b[0mnext\u001b[0m\u001b[0;34m(\u001b[0m\u001b[0;34m)\u001b[0m\u001b[0;34m\u001b[0m\u001b[0;34m\u001b[0m\u001b[0m\n\u001b[0m\u001b[1;32m      3\u001b[0m \u001b[0mconcatenate\u001b[0m \u001b[0;34m=\u001b[0m \u001b[0mtorch\u001b[0m\u001b[0;34m.\u001b[0m\u001b[0mcat\u001b[0m\u001b[0;34m(\u001b[0m\u001b[0;34m(\u001b[0m\u001b[0manchor\u001b[0m\u001b[0;34m,\u001b[0m \u001b[0mpositive\u001b[0m\u001b[0;34m,\u001b[0m \u001b[0mnegative\u001b[0m\u001b[0;34m)\u001b[0m\u001b[0;34m,\u001b[0m \u001b[0;36m0\u001b[0m\u001b[0;34m)\u001b[0m\u001b[0;34m\u001b[0m\u001b[0;34m\u001b[0m\u001b[0m\n\u001b[1;32m      4\u001b[0m \u001b[0;34m\u001b[0m\u001b[0m\n\u001b[1;32m      5\u001b[0m \u001b[0mfig\u001b[0m\u001b[0;34m,\u001b[0m \u001b[0max\u001b[0m \u001b[0;34m=\u001b[0m \u001b[0mplt\u001b[0m\u001b[0;34m.\u001b[0m\u001b[0msubplots\u001b[0m\u001b[0;34m(\u001b[0m\u001b[0;36m1\u001b[0m\u001b[0;34m,\u001b[0m \u001b[0mfigsize\u001b[0m\u001b[0;34m=\u001b[0m\u001b[0;34m(\u001b[0m\u001b[0;36m20\u001b[0m\u001b[0;34m,\u001b[0m \u001b[0;36m5\u001b[0m\u001b[0;34m)\u001b[0m\u001b[0;34m)\u001b[0m\u001b[0;34m\u001b[0m\u001b[0;34m\u001b[0m\u001b[0m\n",
      "\u001b[0;31mValueError\u001b[0m: too many values to unpack (expected 3)"
     ]
    }
   ],
   "source": [
    "dataiter = iter(train_loader)\n",
    "anchor, positive, negative = dataiter.next()\n",
    "concatenate = torch.cat((anchor, positive, negative), 0)\n",
    "\n",
    "fig, ax = plt.subplots(1, figsize=(20, 5))\n",
    "imshow(torchvision.utils.make_grid(concatenate, nrow=batch_size))"
   ]
  },
  {
   "cell_type": "code",
   "execution_count": null,
   "metadata": {},
   "outputs": [],
   "source": [
    "concatenate"
   ]
  },
  {
   "cell_type": "code",
   "execution_count": null,
   "metadata": {},
   "outputs": [],
   "source": []
  },
  {
   "cell_type": "code",
   "execution_count": null,
   "metadata": {},
   "outputs": [],
   "source": []
  },
  {
   "cell_type": "code",
   "execution_count": 25,
   "metadata": {},
   "outputs": [],
   "source": [
    "class Triplet_model(nn.Module):\n",
    "    def __init__(self, base_model):\n",
    "        super(Triplet_model, self).__init__()\n",
    "        self.base = base_model\n",
    "        self.fc = nn.Sequential( \n",
    "            nn.Linear(2048, 256),\n",
    "            nn.PReLU(),\n",
    "            nn.Dropout(0.6),\n",
    "            nn.Linear(256, 128))\n",
    "        \n",
    "    def forward_once(self, x):\n",
    "        return self.fc(self.base(x))\n",
    "    \n",
    "    def forward(self, input1, input2, input3):\n",
    "        anchor = self.forward_once(input1)\n",
    "        positive = self.forward_once(input2)\n",
    "        negative = self.forward_once(input3)\n",
    "        return anchor, positive, negative"
   ]
  },
  {
   "cell_type": "code",
   "execution_count": null,
   "metadata": {},
   "outputs": [],
   "source": []
  },
  {
   "cell_type": "markdown",
   "metadata": {},
   "source": [
    "resnest = encoding.models.get_model('ResNeSt50', pretrained=True)\n",
    "resnest.fc = nn.Identity()\n",
    "#resnet50 = models.resnet50(pretrained=True)\n",
    "#resnet50.fc = nn.Identity()\n",
    "condition = torch.LongTensor([0]).to(device)\n",
    "\n",
    "class Net(torch.nn.Module):\n",
    "    def __init__(self, base_model, condition):\n",
    "        super(Net, self).__init__()\n",
    "        self.base=base_model\n",
    "        self.fc = nn.Sequential( \n",
    "            nn.PReLU(),\n",
    "            nn.Linear(2048, 64)\n",
    "            )\n",
    "        self.masks = torch.nn.Embedding(1, 2048)\n",
    "        mask_array = np.zeros([1, 2048])\n",
    "        mask_array.fill(0.1)\n",
    "        mask_array[0, 0:1024] = 1\n",
    "        self.masks.weight = torch.nn.Parameter(torch.Tensor(mask_array), requires_grad=True)\n",
    "        self.condition = condition\n",
    "        \n",
    "    def forward(self, x):\n",
    "        embed = self.base(x)\n",
    "        self.mask = self.masks(self.condition)\n",
    "        self.mask = torch.nn.functional.relu(self.mask)\n",
    "        masked_embed = embed * self.mask\n",
    "        \n",
    "        out = self.fc(masked_embed)\n",
    "        return out"
   ]
  },
  {
   "cell_type": "code",
   "execution_count": null,
   "metadata": {},
   "outputs": [],
   "source": []
  },
  {
   "cell_type": "code",
   "execution_count": 26,
   "metadata": {},
   "outputs": [],
   "source": [
    "base_model = models.resnet50(pretrained=True)\n",
    "base_model.fc = nn.Identity()\n",
    "model = Triplet_model(base_model).to(device)"
   ]
  },
  {
   "cell_type": "code",
   "execution_count": 27,
   "metadata": {},
   "outputs": [],
   "source": [
    "import time\n",
    "class Timer:\n",
    "    def __init__(self):\n",
    "        self._start_time = None\n",
    "    def start(self):\n",
    "        self._start_time = time.perf_counter()\n",
    "    def stop(self):\n",
    "        elapsed_time = time.perf_counter() - self._start_time\n",
    "        return round(elapsed_time)"
   ]
  },
  {
   "cell_type": "code",
   "execution_count": null,
   "metadata": {},
   "outputs": [],
   "source": [
    "def train(model, loss_func, device, train_loader, optimizer, epoch):\n",
    "    t = Timer(); t.start()\n",
    "    \n",
    "    model.train()\n",
    "    loss_list, acc_list = [], []\n",
    "    \n",
    "    for batch_idx, (anchor, positive, negative) in enumerate(train_loader):\n",
    "        anchor, positive, negative = anchor.to(device), positive.to(device), negative.to(device)\n",
    "        optimizer.zero_grad()\n",
    "        \n",
    "        out_anchor, out_positive, out_negative = model(anchor, positive, negative)\n",
    "        loss = loss_func(out_anchor, out_positive, out_negative)\n",
    "               \n",
    "        loss.backward()\n",
    "        optimizer.step()\n",
    "        \n",
    "        loss_list.append(loss.item())\n",
    "        \n",
    "        pdist = nn.PairwiseDistance(p=2)\n",
    "        output_posit = pdist(out_anchor, out_positive)\n",
    "        output_negat = pdist(out_anchor, out_negative)\n",
    "        \n",
    "        acc_list.append(output_posit < output_negat)\n",
    "        acc = torch.cat(acc_list).detach().cpu().numpy().mean()\n",
    "        \n",
    "        template = \"Train--> [{}:{:2.0f}] Iteration {} ({:3.1f}%): Loss = {:.4f} | Accuracy = {:.3f}\\r\"\n",
    "        loss_arr = np.array(loss_list)\n",
    "        #percentage = 100*(batch_idx+1)/maxiter if maxiter else 100*batch_idx/len(train_loader)\n",
    "        percentage = 100*batch_idx/len(train_loader)\n",
    "        stop_time = t.stop()\n",
    "        print(template.format(round(stop_time/60), round(stop_time)%60, batch_idx, percentage, np.mean(loss_arr), acc), end='')\n",
    "        if percentage == 100: break\n",
    "\n",
    "    stop_time = t.stop()    \n",
    "    print(template.format(round(stop_time/60), round(stop_time)%60, batch_idx, percentage, np.mean(loss_arr), acc))\n",
    "    return model, np.mean(loss_arr), acc "
   ]
  },
  {
   "cell_type": "code",
   "execution_count": null,
   "metadata": {},
   "outputs": [],
   "source": [
    "def valid(model, loss_func, device, loader, epoch):\n",
    "    t = Timer(); t.start()\n",
    "    model.eval()\n",
    "    loss_list, acc_list = [], []\n",
    "\n",
    "    for batch_idx, (anchor, positive, negative) in enumerate(loader):\n",
    "        anchor, positive, negative = anchor.to(device), positive.to(device), negative.to(device)\n",
    "        \n",
    "        out_anchor, out_positive, out_negative = model(anchor, positive, negative)\n",
    "        loss = loss_func(out_anchor, out_positive, out_negative)\n",
    "       \n",
    "        loss_list.append(loss.item())\n",
    "        \n",
    "        pdist = nn.PairwiseDistance(p=2)\n",
    "        output_posit = pdist(out_anchor, out_positive)\n",
    "        output_negat = pdist(out_anchor, out_negative)\n",
    "        \n",
    "        acc_list.append(output_posit < output_negat)\n",
    "        acc = torch.cat(acc_list).detach().cpu().numpy().mean()\n",
    "\n",
    "        percentage = batch_idx/len(loader)\n",
    "        print('Computing Validation ({:.1%})\\r'.format(percentage), end='')\n",
    "        if percentage == 1: break\n",
    "       \n",
    "    template = \"Valid--> [{}:{:2.0f}] Iteration {}: Loss = {:.4f} | Accuracy = {:.3f}\"\n",
    "    loss_arr = np.array(loss_list)\n",
    "    stop_time = t.stop()\n",
    "    print(template.format(round(stop_time/60), round(stop_time)%60, batch_idx, np.mean(loss_arr), acc),)\n",
    "    return np.mean(loss_arr), acc"
   ]
  },
  {
   "cell_type": "code",
   "execution_count": null,
   "metadata": {},
   "outputs": [],
   "source": []
  },
  {
   "cell_type": "code",
   "execution_count": 28,
   "metadata": {},
   "outputs": [],
   "source": [
    "lr = 1.e-5\n",
    "\n",
    "#optimizer = torch.optim.Adam([{'params':model.base.parameters(), 'lr':1.e-5}, \n",
    "                              #{'params':model.fc.parameters(),  'lr':lr}], \n",
    "                             #lr=lr, weight_decay=1.e-4)\n",
    "lr = 1.e-5       \n",
    "optimizer = torch.optim.SGD([{'params':model.base.parameters(), 'lr':1.e-6},{'params':model.fc.parameters(),   'lr':lr}], lr=lr, momentum=0.9, weight_decay=0.0001)\n",
    "criterion = nn.TripletMarginLoss(margin=1)\n",
    "scheduler = torch.optim.lr_scheduler.MultiplicativeLR(optimizer, lr_lambda=lambda epoch: 0.98)"
   ]
  },
  {
   "cell_type": "code",
   "execution_count": null,
   "metadata": {},
   "outputs": [],
   "source": [
    "def save_loss_fig(loss_train, loss_valid, accuracy_train, accuracy_valid, epoch):\n",
    "    loss_train_df=pd.DataFrame(loss_train)\n",
    "    loss_valid_df=pd.DataFrame(loss_valid)\n",
    "    fig, (ax1, ax2) = plt.subplots(1, 2, figsize=(15,4))\n",
    "    ax1.plot([i for i in range(len(loss_train))], loss_train, label='train_loss')\n",
    "    ax1.plot([i for i in range(len(loss_valid))],  loss_valid, label='valid_loss')\n",
    "    #ax1.plot([i for i in range(len(loss_train))], loss_train, linewidth=4, alpha=0.3)\n",
    "    #ax1.plot([i for i in range(len(loss_valid))],  loss_valid,linewidth=4, alpha=0.3)\n",
    "    #ax1.plot([i for i in range(len(loss_train))], loss_train_df[0].rolling(10).mean(), color='blue', label='train_loss')\n",
    "    #ax1.plot([i for i in range(len(loss_valid))],  loss_valid_df[0].rolling(10).mean(), color='orange',  label='valid_loss')\n",
    "    ax1.set(xlabel='epoch', ylabel='loss')\n",
    "    ax1.legend()\n",
    "    \n",
    "    accuracy_train_df=pd.DataFrame(accuracy_train)\n",
    "    accuracy_valid_df=pd.DataFrame(accuracy_valid)\n",
    "    ax2.plot([i for i in range(len(accuracy_train))], accuracy_train, label='train_accuracy')\n",
    "    ax2.plot([i for i in range(len(accuracy_valid))],  accuracy_valid, label='valid_accuracy')\n",
    "    #ax2.plot([i for i in range(len(accuracy_train))], accuracy_train, linewidth=4, alpha=0.3)\n",
    "    #ax2.plot([i for i in range(len(accuracy_valid))],  accuracy_valid, linewidth=4,alpha=0.3)\n",
    "    #ax2.plot([i for i in range(len(accuracy_train))], accuracy_train_df[0].rolling(10).mean(), color='blue', label='train_accuracy')\n",
    "    #ax2.plot([i for i in range(len(accuracy_valid))],  accuracy_valid_df[0].rolling(10).mean(), color='orange', label='valid_accuracy')\n",
    "    ax2.set(xlabel='epoch', ylabel='accuracy')\n",
    "    ax2.legend()\n",
    "    fig.suptitle(f'EPOCH {epoch}', fontsize=16)\n",
    "    plt.close(fig)\n",
    "    fig.savefig(os.path.join('.', \"loss_plot_genre_SGD.jpg\"), pad_inches=0)"
   ]
  },
  {
   "cell_type": "code",
   "execution_count": null,
   "metadata": {},
   "outputs": [],
   "source": [
    "from sklearn.manifold import TSNE\n",
    "#from sklearn.decomposition import PCA"
   ]
  },
  {
   "cell_type": "code",
   "execution_count": null,
   "metadata": {},
   "outputs": [],
   "source": [
    "train_df.genre.value_counts()"
   ]
  },
  {
   "cell_type": "code",
   "execution_count": null,
   "metadata": {},
   "outputs": [],
   "source": [
    "train_loss_list, acc_train_list, valid_loss_list, acc_valid_list = [], [], [], []\n",
    "for epoch in range(2000):\n",
    "    if epoch == 0: valid_loss, acc_valid = valid(model, criterion, device, valid_loader, epoch) \n",
    "\n",
    "    train_loader = DataLoader(ImageDataset(train_df, train_transforms, sample=120),  \n",
    "                          batch_size=batch_size, shuffle=True, \n",
    "                          num_workers = 8, pin_memory=False, \n",
    "                          drop_last=False)\n",
    "        \n",
    "    print('Epoch: {}'.format(epoch))\n",
    "    for i in range(5):\n",
    "        model, train_loss, acc_train = train(model, criterion, device, train_loader, optimizer, epoch)\n",
    "    train_loss_list.append(train_loss)\n",
    "    acc_train_list.append(acc_train)\n",
    "    valid_loss, acc_valid = valid(model, criterion, device, valid_loader, epoch)\n",
    "    valid_loss_list.append(valid_loss)\n",
    "    acc_valid_list.append(acc_valid)\n",
    "    \n",
    "    torch.save(model, './triplet_genre_SGD.pt')\n",
    "    \n",
    "    save_loss_fig(train_loss_list, valid_loss_list, acc_train_list, acc_valid_list, epoch)"
   ]
  },
  {
   "cell_type": "code",
   "execution_count": null,
   "metadata": {},
   "outputs": [],
   "source": []
  },
  {
   "cell_type": "code",
   "execution_count": null,
   "metadata": {},
   "outputs": [],
   "source": []
  },
  {
   "cell_type": "code",
   "execution_count": null,
   "metadata": {},
   "outputs": [],
   "source": []
  },
  {
   "cell_type": "code",
   "execution_count": null,
   "metadata": {},
   "outputs": [],
   "source": []
  },
  {
   "cell_type": "markdown",
   "metadata": {},
   "source": [
    "train_loss_list, train_acc_list, valid_loss_list, valid_acc_list = [], [], [], []\n",
    "best_criterion = 1\n",
    "clf = svm.SVC(kernel='rbf', probability=True)#, class_weight='balanced')\n",
    "\n",
    "for epoch in range(200):\n",
    "    \n",
    "    print('Epoch: {}'.format(epoch))\n",
    "    \n",
    "    model, train_loss, acc_train, classifier = train(model, criterion, device, train_loader, optimizer, epoch, clf) \n",
    "    valid_loss, acc_valid, X_valid, y_valid = valid(model, criterion, device, valid_loader, epoch, clf) \n",
    "    scheduler.step()\n",
    "    if valid_loss < best_criterion:\n",
    "\n",
    "        \n",
    "        best_criterion = valid_loss\n",
    "        torch.save(model, './triplet_genre.pt')\n",
    "        print('------------------------------------------------------------------ Best Model ------------------------------------------------------------------')\n",
    "                                     \n",
    "    train_loss_list.append(train_loss)\n",
    "    train_acc_list.append(acc_train)\n",
    "    valid_loss_list.append(valid_loss)\n",
    "    valid_acc_list.append(acc_valid)\n",
    "    save_loss_fig(train_loss_list, valid_loss_list, train_acc_list, valid_acc_list, epoch)\n",
    "    save_tsne_fig(X_valid, y_valid)"
   ]
  },
  {
   "cell_type": "code",
   "execution_count": null,
   "metadata": {},
   "outputs": [],
   "source": [
    "def embedding_fwd(x):\n",
    "    img = Image.open(x).convert('RGB')\n",
    "    img = valid_transforms(img).unsqueeze(0).to(device)\n",
    "    return model.forward_once(img).detach().cpu().numpy()[0]"
   ]
  },
  {
   "cell_type": "code",
   "execution_count": null,
   "metadata": {},
   "outputs": [],
   "source": [
    "valid_df['embed'] = valid_df.img_path.apply(embedding_fwd)"
   ]
  },
  {
   "cell_type": "code",
   "execution_count": null,
   "metadata": {},
   "outputs": [],
   "source": [
    "#valid_df.embed.tolist()"
   ]
  },
  {
   "cell_type": "code",
   "execution_count": null,
   "metadata": {},
   "outputs": [],
   "source": [
    "np.concatenate(valid_df['embed'].tolist(), axis=0).reshape(-1,128)"
   ]
  },
  {
   "cell_type": "code",
   "execution_count": null,
   "metadata": {},
   "outputs": [],
   "source": [
    "X_train = np.concatenate(valid_df['embed'].tolist(), axis=0).reshape(-1,128)"
   ]
  },
  {
   "cell_type": "code",
   "execution_count": null,
   "metadata": {},
   "outputs": [],
   "source": [
    "len(X_train)"
   ]
  },
  {
   "cell_type": "code",
   "execution_count": null,
   "metadata": {},
   "outputs": [],
   "source": [
    "X_train"
   ]
  },
  {
   "cell_type": "code",
   "execution_count": null,
   "metadata": {},
   "outputs": [],
   "source": []
  },
  {
   "cell_type": "code",
   "execution_count": null,
   "metadata": {},
   "outputs": [],
   "source": []
  },
  {
   "cell_type": "code",
   "execution_count": null,
   "metadata": {},
   "outputs": [],
   "source": [
    "y_train=valid_df['class_genre'].to_numpy().reshape(-1,1)"
   ]
  },
  {
   "cell_type": "code",
   "execution_count": null,
   "metadata": {},
   "outputs": [],
   "source": [
    "X_train.shape"
   ]
  },
  {
   "cell_type": "code",
   "execution_count": null,
   "metadata": {},
   "outputs": [],
   "source": []
  },
  {
   "cell_type": "code",
   "execution_count": null,
   "metadata": {},
   "outputs": [],
   "source": []
  },
  {
   "cell_type": "code",
   "execution_count": null,
   "metadata": {},
   "outputs": [],
   "source": [
    "tsne = TSNE(n_components=2, perplexity=50) #try different perplexity\n",
    "X_embedded = tsne.fit_transform(X_train)"
   ]
  },
  {
   "cell_type": "code",
   "execution_count": null,
   "metadata": {},
   "outputs": [],
   "source": [
    "valid_df.head()"
   ]
  },
  {
   "cell_type": "code",
   "execution_count": null,
   "metadata": {},
   "outputs": [],
   "source": [
    "X_embedded[0,0]"
   ]
  },
  {
   "cell_type": "code",
   "execution_count": null,
   "metadata": {},
   "outputs": [],
   "source": [
    "y_train == label"
   ]
  },
  {
   "cell_type": "code",
   "execution_count": null,
   "metadata": {},
   "outputs": [],
   "source": [
    "np.unique(y_train)"
   ]
  },
  {
   "cell_type": "code",
   "execution_count": null,
   "metadata": {},
   "outputs": [],
   "source": [
    "fig=plt.figure(figsize=(20, 20))\n",
    "plt.title('t-SNE genre')\n",
    "    \n",
    "color = ['dimgrey','lightgray','rosybrown','indianred','brown','red','tomato','darksalmon','sienna','b',\n",
    "            'darkorange','burlywood','darkgoldenrod','gold','olive','yellow','olivedrab','yellowgreen','lawngreen','darkseagreen',\n",
    "             'palegreen','green','lime','mediumaquamarine']#,'aquamarine','turquoise','darkslategrey','teal','aqua','deepskyblue',\n",
    "            # 'dodgerblue','cornflowerblue','royalblue','midnightblue','blue','slateblue','darkslateblue','rebeccapurple','blueviolet','purple','fuchsia']\n",
    "    \n",
    "for label, c in zip(np.unique(y_train), color):\n",
    "    plt.scatter(X_embedded[y_train.reshape(-1) == label, 0], \n",
    "                X_embedded[y_train.reshape(-1) == label, 1],\n",
    "                c=c,\n",
    "                #cmap=plt.cm.Set1(label / float(len(np.unique(y_train)))),\n",
    "                #marker='.',\n",
    "                linewidth='1',\n",
    "                alpha=0.8,\n",
    "                label=class_dict_genre[label])\n",
    "plt.legend(loc='best')\n",
    "plt.close(fig)\n",
    "fig.savefig(os.path.join('.', \"tsne_plot_genre.jpg\"), pad_inches=0)"
   ]
  },
  {
   "cell_type": "code",
   "execution_count": null,
   "metadata": {},
   "outputs": [],
   "source": [
    "fig = plt.figure(figsize=(15,5))\n",
    "rows = 1\n",
    "columns = 2\n",
    "\n",
    "fig.add_subplot(rows, columns, 1)\n",
    "plt.plot([i for i in range(len(train_loss_list))], train_loss_list, label='train_loss')\n",
    "plt.plot([i for i in range(len(valid_loss_list))], valid_loss_list, label='valid_loss')\n",
    "plt.xlabel(\"epoch\")\n",
    "plt.ylabel(\"loss\")\n",
    "plt.legend()\n",
    "\n",
    "fig.add_subplot(rows, columns, 2)\n",
    "plt.plot([i for i in range(len(train_acc_list))], train_acc_list, label='train_acc')\n",
    "plt.plot([i for i in range(len(valid_acc_list))], valid_acc_list, label='valid_acc')\n",
    "plt.xlabel(\"epoch\")\n",
    "plt.ylabel(\"Accuracy\")\n",
    "plt.legend()"
   ]
  },
  {
   "cell_type": "code",
   "execution_count": 29,
   "metadata": {},
   "outputs": [],
   "source": [
    "def train_classifier(model, loss_func, device, loader, clf): \n",
    "    t = Timer(); t.start()\n",
    "    model.eval()\n",
    "    loss_list, X, y = [], [], []\n",
    "\n",
    "    for batch_idx, (anchor, positive, negative, anchor_class) in enumerate(loader):\n",
    "        anchor, positive, negative = anchor.to(device), positive.to(device), negative.to(device)\n",
    "        \n",
    "        out_anchor, out_positive, out_negative = model(anchor, positive, negative)\n",
    "        loss = loss_func(out_anchor, out_positive, out_negative)\n",
    "       \n",
    "        loss_list.append(loss.item())\n",
    "        \n",
    "        X.append(out_anchor.detach().cpu().numpy())\n",
    "        y.append(anchor_class.detach().cpu().numpy())\n",
    "\n",
    "        #percentage = (batch_idx+1)/maxiter if maxiter else batch_idx/len(loader)\n",
    "        percentage = batch_idx/len(loader)\n",
    "        print('Training SVM classifier ({:.1%})\\r'.format(percentage), end='')\n",
    "        if percentage == 1: break\n",
    "    \n",
    "    clf.fit(np.concatenate(X), np.concatenate(y).reshape(-1))\n",
    "    pred = clf.predict(np.concatenate(X))\n",
    "    acc  =  accuracy_score(np.concatenate(y).reshape(-1), pred)\n",
    "\n",
    "    template = \"Train--> [{}:{}] Iteration {}: Loss = {:.4f} | Accuracy = {:.3f}\"\n",
    "    loss_arr = np.array(loss_list)\n",
    "    stop_time = t.stop()\n",
    "    print(template.format(round(stop_time/60), round(stop_time)%60, batch_idx, np.mean(loss_arr), acc),)\n",
    "    return np.mean(loss_arr), acc, clf, X, y"
   ]
  },
  {
   "cell_type": "code",
   "execution_count": 30,
   "metadata": {},
   "outputs": [],
   "source": [
    "def testing(model, loss_func, device, loader, clf):\n",
    "    t = Timer(); t.start()\n",
    "    model.eval()\n",
    "    loss_list, X, y = [], [], []\n",
    "\n",
    "    for batch_idx, (anchor, positive, negative, anchor_class) in enumerate(loader):\n",
    "        anchor, positive, negative = anchor.to(device), positive.to(device), negative.to(device)\n",
    "        \n",
    "        out_anchor, out_positive, out_negative = model(anchor, positive, negative)\n",
    "        loss = loss_func(out_anchor, out_positive, out_negative)\n",
    "       \n",
    "        loss_list.append(loss.item())\n",
    "        \n",
    "        X.append(out_anchor.detach().cpu().numpy())\n",
    "        y.append(anchor_class.detach().cpu().numpy())\n",
    "\n",
    "        percentage =  batch_idx/len(loader)\n",
    "        print('Testing SVM classifier ({:.1%})\\r'.format(percentage), end='')\n",
    "        if percentage == 1: break\n",
    "    \n",
    "    pred = clf.predict(np.concatenate(X))\n",
    "    acc  =  accuracy_score(np.concatenate(y).reshape(-1), pred)\n",
    "\n",
    "    template = \"Test--> [{}:{}] Iteration {}: Loss = {:.4f} | Acuracy = {:.3f}\"\n",
    "    loss_arr = np.array(loss_list)\n",
    "    stop_time = t.stop()\n",
    "    print(template.format(round(stop_time/60), round(stop_time)%60, batch_idx, np.mean(loss_arr), acc),)\n",
    "    return np.mean(loss_arr), acc, pred, np.concatenate(y), np.concatenate(X)"
   ]
  },
  {
   "cell_type": "markdown",
   "metadata": {},
   "source": [
    "## Testing"
   ]
  },
  {
   "cell_type": "code",
   "execution_count": 31,
   "metadata": {},
   "outputs": [],
   "source": [
    "model = torch.load('/data/Notebook/triplets/triplet_genre.pt').to(device)"
   ]
  },
  {
   "cell_type": "code",
   "execution_count": 35,
   "metadata": {},
   "outputs": [],
   "source": [
    "from sklearn.neighbors import KNeighborsClassifier"
   ]
  },
  {
   "cell_type": "code",
   "execution_count": null,
   "metadata": {},
   "outputs": [],
   "source": []
  },
  {
   "cell_type": "code",
   "execution_count": 32,
   "metadata": {},
   "outputs": [
    {
     "name": "stdout",
     "output_type": "stream",
     "text": [
      "Train--> [44:19] Iteration 8676: Loss = 0.5736 | Accuracy = 0.589\n"
     ]
    }
   ],
   "source": [
    "clf = svm.SVC(kernel='rbf',probability=True)\n",
    "train_loss, train_accuracy, classifier, X_train, y_train = train_classifier(model, criterion, device, train_loader, clf)"
   ]
  },
  {
   "cell_type": "code",
   "execution_count": 36,
   "metadata": {},
   "outputs": [
    {
     "name": "stdout",
     "output_type": "stream",
     "text": [
      "Train--> [10:14] Iteration 8676: Loss = 0.5751 | Accuracy = 0.680\n"
     ]
    }
   ],
   "source": [
    "clf = KNeighborsClassifier(n_neighbors=3, n_jobs=-1)\n",
    "train_loss, train_accuracy, classifier, X_train, y_train = train_classifier(model, criterion, device, train_loader, clf)"
   ]
  },
  {
   "cell_type": "code",
   "execution_count": 33,
   "metadata": {},
   "outputs": [
    {
     "name": "stdout",
     "output_type": "stream",
     "text": [
      "Train accuracy: 58.9%\n"
     ]
    }
   ],
   "source": [
    "print(f'Train accuracy: {round(train_accuracy*100,1)}%')"
   ]
  },
  {
   "cell_type": "code",
   "execution_count": null,
   "metadata": {},
   "outputs": [],
   "source": []
  },
  {
   "cell_type": "code",
   "execution_count": 34,
   "metadata": {},
   "outputs": [
    {
     "name": "stdout",
     "output_type": "stream",
     "text": [
      "Test--> [0:15] Iteration 149: Loss = 0.6127 | Acuracy = 0.420\n",
      "Valid accuracy: 42.0%\n"
     ]
    }
   ],
   "source": [
    "test_loss, test_accuracy, y_pred, y_true, X_test = testing(model, criterion, device, valid_loader, classifier)\n",
    "print(f'Valid accuracy: {round(test_accuracy*100,1)}%')"
   ]
  },
  {
   "cell_type": "code",
   "execution_count": null,
   "metadata": {},
   "outputs": [],
   "source": [
    "list_genre_name = []\n",
    "list_genre_lab = []\n",
    "for i, name in class_dict_genre.items():\n",
    "    list_genre_name.append(name)\n",
    "    list_genre_lab.append(i)"
   ]
  },
  {
   "cell_type": "code",
   "execution_count": null,
   "metadata": {},
   "outputs": [],
   "source": [
    "from sklearn.metrics import confusion_matrix\n",
    "cm = confusion_matrix(y_true, y_pred, labels = list_genre_lab, normalize='true')\n",
    "cm.diagonal()/cm.sum(axis=1)"
   ]
  },
  {
   "cell_type": "code",
   "execution_count": null,
   "metadata": {},
   "outputs": [],
   "source": [
    "tick_marks = np.arange(len(list_genre))\n",
    "df_cm = pd.DataFrame(cm, index = list_genre_name, columns = list_genre_name)\n",
    "plt.figure(figsize = (20,20))\n",
    "sns.heatmap(df_cm, annot=True, cmap=plt.cm.Reds, fmt='.2f')\n",
    "plt.xlabel(\"Predicted\", fontsize = 10)\n",
    "plt.ylabel(\"True\", fontsize = 10)\n",
    "plt.show()"
   ]
  },
  {
   "cell_type": "code",
   "execution_count": null,
   "metadata": {},
   "outputs": [],
   "source": [
    "from sklearn.metrics import classification_report\n",
    "print(classification_report(y_true, y_pred, labels = list_genre_lab, target_names = list_genre_name))"
   ]
  },
  {
   "cell_type": "code",
   "execution_count": null,
   "metadata": {},
   "outputs": [],
   "source": [
    "from sklearn.metrics import precision_score\n",
    "print(\"precision: \", precision_score(y_true, y_pred, average='weighted'))"
   ]
  },
  {
   "cell_type": "code",
   "execution_count": null,
   "metadata": {},
   "outputs": [],
   "source": [
    "torch.from_numpy(X_train[1])"
   ]
  },
  {
   "cell_type": "code",
   "execution_count": null,
   "metadata": {},
   "outputs": [],
   "source": [
    "concatenated"
   ]
  },
  {
   "cell_type": "code",
   "execution_count": null,
   "metadata": {},
   "outputs": [],
   "source": [
    "(concatenated.reshape(-1,128))"
   ]
  },
  {
   "cell_type": "code",
   "execution_count": null,
   "metadata": {},
   "outputs": [],
   "source": [
    "for i in range(10):\n",
    "    concatenated = torch.cat((torch.from_numpy(X_train[i]), torch.from_numpy(X_train[i+1])), 0)\n",
    "    distance = torch.nn.PairwiseDistance(torch.from_numpy(X_train[i]), torch.from_numpy(X_train[i+1]))\n",
    "    fig, ax = plt.subplots(1, figsize=(20, 5))\n",
    "    imshow(torchvision.utils.make_grid(concatenated.reshape(-1,128)))\n",
    "    #dist = distance(torch.from_numpy(X_train[i]), torch.from_numpy(X_train[i+1]))\n",
    "    print('Dissimilarity: {:.2f}'.format(dist.item()))\n",
    "    print(f'Genre1: {class_dict_genre[y_train[i].item()]}, Genre2: {class_dict_genre[y_train[i+1].item()]}')"
   ]
  },
  {
   "cell_type": "code",
   "execution_count": null,
   "metadata": {},
   "outputs": [],
   "source": [
    "concatenated"
   ]
  },
  {
   "cell_type": "code",
   "execution_count": null,
   "metadata": {},
   "outputs": [],
   "source": [
    "y_train[1].item()"
   ]
  },
  {
   "cell_type": "code",
   "execution_count": null,
   "metadata": {},
   "outputs": [],
   "source": []
  },
  {
   "cell_type": "code",
   "execution_count": null,
   "metadata": {},
   "outputs": [],
   "source": [
    "dist(X_train[0], X_train[1])"
   ]
  },
  {
   "cell_type": "code",
   "execution_count": null,
   "metadata": {},
   "outputs": [],
   "source": [
    "concatenated.reshape(-1,128)"
   ]
  },
  {
   "cell_type": "code",
   "execution_count": null,
   "metadata": {},
   "outputs": [],
   "source": []
  },
  {
   "cell_type": "code",
   "execution_count": null,
   "metadata": {},
   "outputs": [],
   "source": [
    "X_train[1]"
   ]
  },
  {
   "cell_type": "markdown",
   "metadata": {},
   "source": [
    "## t-SNE with images"
   ]
  },
  {
   "cell_type": "code",
   "execution_count": null,
   "metadata": {},
   "outputs": [],
   "source": [
    "from matplotlib.offsetbox import OffsetImage, AnnotationBbox"
   ]
  },
  {
   "cell_type": "code",
   "execution_count": null,
   "metadata": {},
   "outputs": [],
   "source": [
    "def save_tse_images(X):\n",
    "    tsne = TSNE(n_components=2, perplexity=50) #try different perplexity (between 5 and 50)\n",
    "    X_embedded = tsne.fit_transform(X)\n",
    "    \n",
    "    fig, ax = plt.subplots(figsize=(40,40))\n",
    "    plt.title('t-SNE')\n",
    "    artists = []\n",
    "    \n",
    "    for xy, i in zip (X_embedded, X):\n",
    "        x0,y0 =xy\n",
    "        img = OffsetImage(i, zoom=0.6)\n",
    "        ab = AnnotationBbox(img, (x0, y0), xycoords='data', frameon=False)\n",
    "        artists.append(ax.add_artist(ab))\n",
    "    ax.update_datalim(X_embedded)\n",
    "    ax.autoscale()\n",
    "    \n",
    "    #plt.close(fig)\n",
    "    fig.savefig(os.path.join('.', \"tsne_plot_images.jpg\"), pad_inches=0)"
   ]
  },
  {
   "cell_type": "code",
   "execution_count": null,
   "metadata": {},
   "outputs": [],
   "source": [
    "save_tse_images(X_test)"
   ]
  },
  {
   "cell_type": "code",
   "execution_count": null,
   "metadata": {},
   "outputs": [],
   "source": [
    "#prova\n",
    "\n",
    "def show_tse_images(X):\n",
    "    tsne = TSNE(n_components=2, perplexity=50) #try different perplexity (between 5 and 50)\n",
    "    X_embedded = tsne.fit_transform(X)\n",
    "    tx, ty = tsne[:,0], tsne[:,1]\n",
    "    tx = (tx-np.min(tx)) / (np.max(tx) - np.min(tx))\n",
    "    ty = (ty-np.min(ty)) / (np.max(ty) - np.min(ty))\n",
    "    width = 4000\n",
    "    height = 3000\n",
    "    max_dim = 100\n",
    "\n",
    "    full_image = Image.new('RGB', (width, height))\n",
    "    for img, x, y in zip(X, tx, ty):\n",
    "        rs = max(1, img.width/max_dim, img.height/max_dim)\n",
    "        img = img.resize((int(img.width/rs), int(img.height/rs)), Image.ANTIALIAS)\n",
    "        full_image.paste(img, (int((width-max_dim)*x), int((height-max_dim)*y)), mask=img.convert('RGB'))\n",
    "\n",
    "    matplotlib.pyplot.figure(figsize = (16,12))\n",
    "    imshow(full_image)"
   ]
  },
  {
   "cell_type": "code",
   "execution_count": null,
   "metadata": {},
   "outputs": [],
   "source": [
    "show_tse_image(X_test)"
   ]
  },
  {
   "cell_type": "code",
   "execution_count": null,
   "metadata": {},
   "outputs": [],
   "source": []
  },
  {
   "cell_type": "code",
   "execution_count": null,
   "metadata": {},
   "outputs": [],
   "source": []
  },
  {
   "cell_type": "code",
   "execution_count": null,
   "metadata": {},
   "outputs": [],
   "source": []
  },
  {
   "cell_type": "markdown",
   "metadata": {},
   "source": [
    "transform = T.Compose([\n",
    "        T.Resize(224, 224),\n",
    "        T.ToTensor(),\n",
    "        T.Normalize(mean=[0.485, 0.456, 0.406], \n",
    "                    std=[0.229, 0.224, 0.225])])\n",
    "\n",
    "inv_normalize = transforms.Normalize(\n",
    "    mean=[-0.485/0.229, -0.456/0.224, -0.406/0.255],\n",
    "    std=[1/0.229, 1/0.224, 1/0.255]\n",
    ")"
   ]
  },
  {
   "cell_type": "code",
   "execution_count": null,
   "metadata": {},
   "outputs": [],
   "source": [
    "def saliency(anchor, positive, negative, model):\n",
    "    #we don't need gradients w.r.t. weights for a trained model\n",
    "    for param in model.parameters():\n",
    "        param.requires_grad = False\n",
    "    \n",
    "    model.eval()\n",
    "    #transform input PIL image to torch.Tensor and normalize\n",
    "\n",
    "    #we want to calculate gradient of higest score w.r.t. input\n",
    "    #so set requires_grad to True for input \n",
    "    anchor.requires_grad = True\n",
    "    #forward pass to calculate predictions\n",
    "    anchor, positive, negative = anchor.to(device), positive.to(device), negative.to(device)\n",
    "    out_anchor, _, _ = model(anchor, positive, negative)\n",
    "    preds = clf.predict(out_anchor.detach().cpu().numpy())\n",
    "    #preds = model(input)\n",
    "    score, indices = torch.max(preds, 1)\n",
    "    #backward pass to get gradients of score predicted class w.r.t. input image\n",
    "    score.backward()\n",
    "    #get max along channel axis\n",
    "    slc, _ = torch.max(torch.abs(anchor.grad[0]), dim=0)\n",
    "    #normalize to [0..1]\n",
    "    slc = (slc - slc.min())/(slc.max()-slc.min())\n",
    "    \n",
    "    #apply inverse transform on image\n",
    "    #with torch.no_grad():\n",
    "    #    anchor_img = inv_normalize(anchor[0])\n",
    "    #plot image and its saleincy map\n",
    "    plt.figure(figsize=(10, 10))\n",
    "    plt.subplot(1, 2, 1)\n",
    "    plt.imshow(anchor.detach().numpy())\n",
    "    plt.xticks([])\n",
    "    plt.yticks([])\n",
    "    plt.subplot(1, 2, 2)\n",
    "    plt.imshow(slc.numpy(), cmap=plt.cm.hot)\n",
    "    plt.xticks([])\n",
    "    plt.yticks([])\n",
    "    plt.show()"
   ]
  },
  {
   "cell_type": "code",
   "execution_count": null,
   "metadata": {},
   "outputs": [],
   "source": [
    "validiter = iter(valid_loader)\n",
    "anch, pos, neg, genre = validiter.next()"
   ]
  },
  {
   "cell_type": "code",
   "execution_count": null,
   "metadata": {},
   "outputs": [],
   "source": [
    "#im = valid_df.iloc[1]\n",
    "#img = Image.open(im.img_path).convert('RGB')\n",
    "saliency(anch[0], pos[0], neg[0], model)"
   ]
  }
 ],
 "metadata": {
  "kernelspec": {
   "display_name": "Python 3",
   "language": "python",
   "name": "python3"
  },
  "language_info": {
   "codemirror_mode": {
    "name": "ipython",
    "version": 3
   },
   "file_extension": ".py",
   "mimetype": "text/x-python",
   "name": "python",
   "nbconvert_exporter": "python",
   "pygments_lexer": "ipython3",
   "version": "3.6.9"
  }
 },
 "nbformat": 4,
 "nbformat_minor": 4
}
